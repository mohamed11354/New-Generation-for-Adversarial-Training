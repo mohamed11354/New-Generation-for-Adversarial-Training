{
 "cells": [
  {
   "cell_type": "code",
   "execution_count": 1,
   "id": "e1f56b73",
   "metadata": {
    "_cell_guid": "b1076dfc-b9ad-4769-8c92-a6c4dae69d19",
    "_uuid": "8f2839f25d086af736a60e9eeb907d3b93b6e0e5",
    "execution": {
     "iopub.execute_input": "2024-03-23T00:46:20.357849Z",
     "iopub.status.busy": "2024-03-23T00:46:20.356973Z",
     "iopub.status.idle": "2024-03-23T00:46:32.998457Z",
     "shell.execute_reply": "2024-03-23T00:46:32.997587Z"
    },
    "papermill": {
     "duration": 12.650913,
     "end_time": "2024-03-23T00:46:33.000761",
     "exception": false,
     "start_time": "2024-03-23T00:46:20.349848",
     "status": "completed"
    },
    "tags": []
   },
   "outputs": [
    {
     "name": "stderr",
     "output_type": "stream",
     "text": [
      "2024-03-23 00:46:22.204096: E external/local_xla/xla/stream_executor/cuda/cuda_dnn.cc:9261] Unable to register cuDNN factory: Attempting to register factory for plugin cuDNN when one has already been registered\n",
      "2024-03-23 00:46:22.204224: E external/local_xla/xla/stream_executor/cuda/cuda_fft.cc:607] Unable to register cuFFT factory: Attempting to register factory for plugin cuFFT when one has already been registered\n",
      "2024-03-23 00:46:22.336797: E external/local_xla/xla/stream_executor/cuda/cuda_blas.cc:1515] Unable to register cuBLAS factory: Attempting to register factory for plugin cuBLAS when one has already been registered\n"
     ]
    }
   ],
   "source": [
    "import tensorflow as tf"
   ]
  },
  {
   "cell_type": "markdown",
   "id": "408def2e",
   "metadata": {},
   "source": [
    "# Modified MIG"
   ]
  },
  {
   "cell_type": "code",
   "execution_count": 2,
   "id": "c003fcbd",
   "metadata": {
    "execution": {
     "iopub.execute_input": "2024-03-23T00:46:33.012231Z",
     "iopub.status.busy": "2024-03-23T00:46:33.011719Z",
     "iopub.status.idle": "2024-03-23T00:46:33.029065Z",
     "shell.execute_reply": "2024-03-23T00:46:33.028182Z"
    },
    "papermill": {
     "duration": 0.02502,
     "end_time": "2024-03-23T00:46:33.030911",
     "exception": false,
     "start_time": "2024-03-23T00:46:33.005891",
     "status": "completed"
    },
    "tags": []
   },
   "outputs": [],
   "source": [
    "@tf.function\n",
    "def MIG(model, images, labels, size, iterations = 20, steps = 15):\n",
    "    # interpolated intensities\n",
    "    alphas = tf.linspace(0.0,1.0,steps+1)\n",
    "    alphas_x = alphas[:,tf.newaxis, tf.newaxis, tf.newaxis,tf.newaxis]\n",
    "    alphas_x = tf.reshape(alphas_x,(1,alphas.shape[0],1,1,1))\n",
    "    images = tf.cast(images,'float32')\n",
    "    g_t_0 = tf.zeros_like(images)\n",
    "    g_t_1 = tf.zeros_like(images)\n",
    "    g_t_2 = tf.zeros_like(images)\n",
    "    g_t_3 = tf.zeros_like(images)\n",
    "    g_t_4 = tf.zeros_like(images)\n",
    "    x_t_0 = images\n",
    "    x_t_1 = images\n",
    "    x_t_2 = images\n",
    "    x_t_3 = images\n",
    "    x_t_4 = images\n",
    "    #eps_step = tf.constant(epsilon/iterations)\n",
    "\n",
    "    for i in tf.range(iterations):\n",
    "        # calculate interpolated images\n",
    "        delta = tf.expand_dims(x_t_4,1)\n",
    "        interpolated = delta * alphas_x\n",
    "        # calculate gradient for each image\n",
    "        grads = tf.TensorArray(tf.float32,size)\n",
    "        i = 0\n",
    "        for inter in interpolated:\n",
    "            with tf.GradientTape() as tape:\n",
    "                tape.watch(inter)\n",
    "                probs = model(inter)[:,labels[i]]\n",
    "            grads = grads.write(i,tape.gradient(probs,inter))\n",
    "            i+= 1\n",
    "\n",
    "        grads = grads.stack()\n",
    "        # aproximate integration using remain trapoziod\n",
    "        grads = (grads[:,:-1] + grads[:,1:]) / tf.constant(2.0)\n",
    "        avg_gradients = tf.math.reduce_mean(grads, axis=1)\n",
    "\n",
    "        integrated_gradient = x_t_4 * avg_gradients\n",
    "        #delta_t = self.IG(x_t,labels,size)\n",
    "\n",
    "        g_t_4 = g_t_4 + (integrated_gradient/tf.norm(integrated_gradient,1))\n",
    "        x_h = x_t_4 - 0.25 * tf.sign(g_t_4)\n",
    "        x_t_4 = tf.clip_by_value(x_h,x_h-5,x_h+5)\n",
    "\n",
    "        #integrated_gradient = tf.clip_by_value(integrated_gradient,integrated_gradient-4,integrated_gradient+4)\n",
    "        g_t_3 = g_t_3 + (integrated_gradient/tf.norm(integrated_gradient,1))\n",
    "        x_h = x_t_3 - 0.2 * tf.sign(g_t_3)\n",
    "        x_t_3 = tf.clip_by_value(x_h,x_h-4,x_h+4)\n",
    "\n",
    "        #integrated_gradient = tf.clip_by_value(integrated_gradient,integrated_gradient-3,integrated_gradient+3)\n",
    "        g_t_2 = g_t_2 + (integrated_gradient/tf.norm(integrated_gradient,1))\n",
    "        x_h = x_t_2 - 0.15 * tf.sign(g_t_2)\n",
    "        x_t_2 = tf.clip_by_value(x_h,x_h-3,x_h+3)\n",
    "\n",
    "        #integrated_gradient = tf.clip_by_value(integrated_gradient,integrated_gradient-2,integrated_gradient+2)\n",
    "        g_t_1 = g_t_1 + (integrated_gradient/tf.norm(integrated_gradient,1))\n",
    "        x_h = x_t_1 - 0.1 * tf.sign(g_t_1)\n",
    "        x_t_1 = tf.clip_by_value(x_h,x_h-2,x_h+2)\n",
    "\n",
    "        #integrated_gradient = tf.clip_by_value(integrated_gradient,integrated_gradient-1,integrated_gradient+1)\n",
    "        g_t_0 = g_t_0 + (integrated_gradient/tf.norm(integrated_gradient,1))\n",
    "        x_h = x_t_0 - 0.05 * tf.sign(g_t_1)\n",
    "        x_t_0 = tf.clip_by_value(x_h,x_h-1,x_h+1)\n",
    "\n",
    "    return tf.stack([tf.clip_by_value(x_t_0,0,255),tf.clip_by_value(x_t_1,0,255),tf.clip_by_value(x_t_2,0,255),tf.clip_by_value(x_t_3,0,255),tf.clip_by_value(x_t_4,0,255)])"
   ]
  },
  {
   "cell_type": "code",
   "execution_count": 3,
   "id": "7b347455",
   "metadata": {
    "execution": {
     "iopub.execute_input": "2024-03-23T00:46:33.041452Z",
     "iopub.status.busy": "2024-03-23T00:46:33.041163Z",
     "iopub.status.idle": "2024-03-23T00:46:43.053679Z",
     "shell.execute_reply": "2024-03-23T00:46:43.052650Z"
    },
    "papermill": {
     "duration": 10.020311,
     "end_time": "2024-03-23T00:46:43.055925",
     "exception": false,
     "start_time": "2024-03-23T00:46:33.035614",
     "status": "completed"
    },
    "tags": []
   },
   "outputs": [
    {
     "name": "stdout",
     "output_type": "stream",
     "text": [
      "Found 50000 files belonging to 1000 classes.\n"
     ]
    }
   ],
   "source": [
    "eval_dir = \"/kaggle/input/evaluation-of-imagnet/evaluation\"\n",
    "eval_set = tf.keras.utils.image_dataset_from_directory(eval_dir,image_size=(224, 224),batch_size=4, seed = 4854)"
   ]
  },
  {
   "cell_type": "markdown",
   "id": "296765bc",
   "metadata": {},
   "source": [
    "# Create subset of evaluation"
   ]
  },
  {
   "cell_type": "code",
   "execution_count": 5,
   "id": "784ab70e",
   "metadata": {
    "execution": {
     "iopub.execute_input": "2024-03-23T00:46:43.120144Z",
     "iopub.status.busy": "2024-03-23T00:46:43.119890Z",
     "iopub.status.idle": "2024-03-23T00:46:48.833113Z",
     "shell.execute_reply": "2024-03-23T00:46:48.832262Z"
    },
    "papermill": {
     "duration": 5.72123,
     "end_time": "2024-03-23T00:46:48.835424",
     "exception": false,
     "start_time": "2024-03-23T00:46:43.114194",
     "status": "completed"
    },
    "tags": []
   },
   "outputs": [],
   "source": [
    "clean_set = []\n",
    "label_set = []\n",
    "\n",
    "extracted_label = []\n",
    "extracted_clean = []\n",
    "\n",
    "eps = [1,2,3,4,5]\n",
    "eps_iter = [e/20 for e in eps]\n",
    "\n",
    "cnt = 0\n",
    "\n",
    "for batch, label in eval_set:\n",
    "    clean_set.append(batch)\n",
    "    label_set.append(label)\n",
    "    for i in label:\n",
    "        extracted_label.append(i)\n",
    "    for i in batch:\n",
    "        extracted_clean.append(i)\n",
    "    cnt += 1\n",
    "    if cnt == 400:\n",
    "        break\n",
    "\n",
    "\n",
    "extracted_label = tf.convert_to_tensor(extracted_label)\n",
    "extracted_clean = tf.convert_to_tensor(extracted_clean)"
   ]
  },
  {
   "cell_type": "code",
   "execution_count": 9,
   "id": "51dc1713",
   "metadata": {
    "execution": {
     "iopub.execute_input": "2024-03-23T01:25:32.270219Z",
     "iopub.status.busy": "2024-03-23T01:25:32.269929Z",
     "iopub.status.idle": "2024-03-23T01:25:32.288879Z",
     "shell.execute_reply": "2024-03-23T01:25:32.288220Z"
    },
    "papermill": {
     "duration": 0.031247,
     "end_time": "2024-03-23T01:25:32.290766",
     "exception": false,
     "start_time": "2024-03-23T01:25:32.259519",
     "status": "completed"
    },
    "tags": []
   },
   "outputs": [],
   "source": [
    "metrics_new = [tf.keras.metrics.SparseCategoricalCrossentropy(name=\"migloss1\"),\n",
    "        tf.keras.metrics.SparseCategoricalCrossentropy(name=\"migloss2\"),\n",
    "        tf.keras.metrics.SparseCategoricalCrossentropy(name=\"migloss3\"),\n",
    "        tf.keras.metrics.SparseCategoricalCrossentropy(name=\"migloss4\"),\n",
    "        tf.keras.metrics.SparseCategoricalCrossentropy(name=\"migloss5\"),\n",
    "        tf.keras.metrics.SparseCategoricalAccuracy(name='migacc1'),\n",
    "        tf.keras.metrics.SparseCategoricalAccuracy(name='migacc2'),\n",
    "        tf.keras.metrics.SparseCategoricalAccuracy(name='migacc3'),\n",
    "        tf.keras.metrics.SparseCategoricalAccuracy(name='migacc4'),\n",
    "        tf.keras.metrics.SparseCategoricalAccuracy(name='migacc5')]"
   ]
  },
  {
   "cell_type": "code",
   "execution_count": 10,
   "id": "ee450915",
   "metadata": {
    "execution": {
     "iopub.execute_input": "2024-03-23T01:25:32.309456Z",
     "iopub.status.busy": "2024-03-23T01:25:32.308904Z",
     "iopub.status.idle": "2024-03-23T01:25:33.623935Z",
     "shell.execute_reply": "2024-03-23T01:25:33.623138Z"
    },
    "papermill": {
     "duration": 1.326934,
     "end_time": "2024-03-23T01:25:33.626484",
     "exception": false,
     "start_time": "2024-03-23T01:25:32.299550",
     "status": "completed"
    },
    "tags": []
   },
   "outputs": [],
   "source": [
    "base_model=tf.keras.applications.efficientnet.EfficientNetB0(\n",
    "    include_top=True,\n",
    "    weights=None,\n",
    "    classifier_activation='softmax',\n",
    "    classes=1000\n",
    ")\n",
    "\n",
    "inputs = tf.keras.layers.Input((224, 224, 3))\n",
    "preprocessing = tf.keras.layers.Lambda(tf.keras.applications.efficientnet.preprocess_input)(inputs)\n",
    "outputs = base_model(preprocessing)\n",
    "\n",
    "base_model= tf.keras.Model(inputs = inputs, outputs = outputs)\n",
    "base_model.compile(optimizer=\"sgd\",loss = \"sparse_categorical_crossentropy\",metrics=['sparse_categorical_accuracy'])\n",
    "base_model.load_weights('/kaggle/input/efficientnetb0-adv-pgd/checkpoint.h5')"
   ]
  },
  {
   "cell_type": "code",
   "execution_count": 11,
   "id": "cde2aa67",
   "metadata": {
    "execution": {
     "iopub.execute_input": "2024-03-23T01:25:33.645648Z",
     "iopub.status.busy": "2024-03-23T01:25:33.645341Z",
     "iopub.status.idle": "2024-03-23T02:03:50.959844Z",
     "shell.execute_reply": "2024-03-23T02:03:50.958819Z"
    },
    "papermill": {
     "duration": 2297.326777,
     "end_time": "2024-03-23T02:03:50.962333",
     "exception": false,
     "start_time": "2024-03-23T01:25:33.635556",
     "status": "completed"
    },
    "tags": []
   },
   "outputs": [
    {
     "name": "stdout",
     "output_type": "stream",
     "text": [
      "\u001b[1m50/50\u001b[0m \u001b[32m━━━━━━━━━━━━━━━━━━━━\u001b[0m\u001b[37m\u001b[0m \u001b[1m9s\u001b[0m 31ms/step - loss: 1.4425 - sparse_categorical_accuracy: 0.6572\n"
     ]
    }
   ],
   "source": [
    "results_new = base_model.evaluate(extracted_clean, extracted_label)\n",
    "        \n",
    "#Evaluation newmodel\n",
    "for batch, label in zip(clean_set, label_set):\n",
    "    adv = MIG(base_model, batch, label, 4)\n",
    "    for i in range(5):\n",
    "        y_pred = base_model(adv[i], training=False)\n",
    "        metrics_new[i].update_state(label, y_pred)\n",
    "        metrics_new[i+5].update_state(label, y_pred)"
   ]
  },
  {
   "cell_type": "code",
   "execution_count": 12,
   "id": "7ce40966",
   "metadata": {
    "execution": {
     "iopub.execute_input": "2024-03-23T02:03:50.986856Z",
     "iopub.status.busy": "2024-03-23T02:03:50.986552Z",
     "iopub.status.idle": "2024-03-23T02:03:50.996883Z",
     "shell.execute_reply": "2024-03-23T02:03:50.996174Z"
    },
    "papermill": {
     "duration": 0.024395,
     "end_time": "2024-03-23T02:03:50.998782",
     "exception": false,
     "start_time": "2024-03-23T02:03:50.974387",
     "status": "completed"
    },
    "tags": []
   },
   "outputs": [],
   "source": [
    "with open('Evaluate_newmodel.txt','w') as file:\n",
    "    file.write(f'cleanacc: {results_new[1]:.4f}\\n')\n",
    "    file.write(f'cleanloss: {results_new[0]:.4f}\\n')\n",
    "    for mb in metrics_new:\n",
    "        file.write(f\"{mb.name}: {mb.result():.4f}\\n\")"
   ]
  },
  {
   "cell_type": "markdown",
   "id": "bd9dfbc9",
   "metadata": {
    "papermill": {
     "duration": 0.011444,
     "end_time": "2024-03-23T02:03:51.049668",
     "exception": false,
     "start_time": "2024-03-23T02:03:51.038224",
     "status": "completed"
    },
    "tags": []
   },
   "source": [
    "# Old method Evaluation"
   ]
  },
  {
   "cell_type": "code",
   "execution_count": 14,
   "id": "46f87389",
   "metadata": {
    "execution": {
     "iopub.execute_input": "2024-03-23T02:03:51.072984Z",
     "iopub.status.busy": "2024-03-23T02:03:51.072165Z",
     "iopub.status.idle": "2024-03-23T02:03:51.078010Z",
     "shell.execute_reply": "2024-03-23T02:03:51.077302Z"
    },
    "papermill": {
     "duration": 0.019386,
     "end_time": "2024-03-23T02:03:51.079847",
     "exception": false,
     "start_time": "2024-03-23T02:03:51.060461",
     "status": "completed"
    },
    "tags": []
   },
   "outputs": [],
   "source": [
    "@tf.function\n",
    "def IG(model, images, labels, size, steps = 15):\n",
    "    # interpolated intensities\n",
    "    alphas = tf.linspace(0.0,1.0,steps+1)\n",
    "    alphas_x = alphas[:,tf.newaxis, tf.newaxis, tf.newaxis,tf.newaxis]\n",
    "    alphas_x = tf.reshape(alphas_x,(1,alphas.shape[0],1,1,1))\n",
    "\n",
    "    # standardize input\n",
    "    images = tf.cast(images,'float32')\n",
    "\n",
    "    # calculate interpolated images\n",
    "    delta = tf.expand_dims(images,1)\n",
    "    interpolated = delta * alphas_x\n",
    "\n",
    "    # calculate gradient for each image\n",
    "    grads = tf.TensorArray(tf.float32,32)\n",
    "    i = 0\n",
    "    for inter in interpolated:\n",
    "        with tf.GradientTape() as tape:\n",
    "            tape.watch(inter)\n",
    "            probs = model(inter)[:,labels[i]]\n",
    "        grads = grads.write(i,tape.gradient(probs,inter))\n",
    "        i+= 1\n",
    "\n",
    "    grads = grads.stack()\n",
    "\n",
    "    # aproximate integration using remain trapoziod\n",
    "    grads = (grads[:,:-1] + grads[:,1:]) / tf.constant(2.0)\n",
    "    avg_gradients = tf.math.reduce_mean(grads, axis=1)\n",
    "\n",
    "    integrated_gradient = images * avg_gradients\n",
    "\n",
    "    return integrated_gradient\n",
    "\n",
    "@tf.function\n",
    "def MIG(model, images, labels, size, epsilon = 16, iterations = 20):\n",
    "    g_t = tf.zeros_like(images)\n",
    "    x_t = images\n",
    "    eps_step = tf.constant(epsilon/iterations)\n",
    "    for i in tf.range(iterations):\n",
    "        # steps = 20 as research\n",
    "        #labels = tf.argmax(model(x_t) , -1)\n",
    "        delta_t = IG(model,x_t,labels,size) \n",
    "        g_t = g_t + (delta_t/tf.norm(delta_t,1))\n",
    "        x_h = x_t - eps_step * tf.sign(g_t)\n",
    "        x_t = tf.clip_by_value(x_h,x_h-epsilon,x_h+epsilon)\n",
    "    return tf.clip_by_value(x_t,0,255)"
   ]
  }
 ],
 "metadata": {
  "kaggle": {
   "accelerator": "gpu",
   "dataSources": [
    {
     "datasetId": 4261639,
     "sourceId": 7340109,
     "sourceType": "datasetVersion"
    },
    {
     "datasetId": 4637929,
     "sourceId": 7897810,
     "sourceType": "datasetVersion"
    }
   ],
   "dockerImageVersionId": 30665,
   "isGpuEnabled": true,
   "isInternetEnabled": true,
   "language": "python",
   "sourceType": "notebook"
  },
  "kernelspec": {
   "display_name": "Python 3",
   "language": "python",
   "name": "python3"
  },
  "language_info": {
   "codemirror_mode": {
    "name": "ipython",
    "version": 3
   },
   "file_extension": ".py",
   "mimetype": "text/x-python",
   "name": "python",
   "nbconvert_exporter": "python",
   "pygments_lexer": "ipython3",
   "version": "3.10.13"
  },
  "papermill": {
   "default_parameters": {},
   "duration": 4657.293496,
   "end_time": "2024-03-23T02:03:54.865461",
   "environment_variables": {},
   "exception": null,
   "input_path": "__notebook__.ipynb",
   "output_path": "__notebook__.ipynb",
   "parameters": {},
   "start_time": "2024-03-23T00:46:17.571965",
   "version": "2.5.0"
  }
 },
 "nbformat": 4,
 "nbformat_minor": 5
}
